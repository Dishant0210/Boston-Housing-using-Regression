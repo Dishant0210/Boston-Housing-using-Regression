{
 "cells": [
  {
   "cell_type": "code",
   "execution_count": 1,
   "id": "944e8576",
   "metadata": {},
   "outputs": [],
   "source": [
    "#import important libraries\n",
    "import numpy as np\n",
    "import pandas as pd\n",
    "import matplotlib.pyplot as plt\n",
    "import seaborn as sb\n",
    "import warnings\n",
    "warnings.filterwarnings('ignore')"
   ]
  },
  {
   "cell_type": "code",
   "execution_count": 2,
   "id": "64bc1ced",
   "metadata": {},
   "outputs": [
    {
     "data": {
      "text/html": [
       "<div>\n",
       "<style scoped>\n",
       "    .dataframe tbody tr th:only-of-type {\n",
       "        vertical-align: middle;\n",
       "    }\n",
       "\n",
       "    .dataframe tbody tr th {\n",
       "        vertical-align: top;\n",
       "    }\n",
       "\n",
       "    .dataframe thead th {\n",
       "        text-align: right;\n",
       "    }\n",
       "</style>\n",
       "<table border=\"1\" class=\"dataframe\">\n",
       "  <thead>\n",
       "    <tr style=\"text-align: right;\">\n",
       "      <th></th>\n",
       "      <th>crim</th>\n",
       "      <th>zn</th>\n",
       "      <th>indus</th>\n",
       "      <th>chas</th>\n",
       "      <th>nox</th>\n",
       "      <th>rm</th>\n",
       "      <th>age</th>\n",
       "      <th>dis</th>\n",
       "      <th>rad</th>\n",
       "      <th>tax</th>\n",
       "      <th>ptratio</th>\n",
       "      <th>b</th>\n",
       "      <th>lstat</th>\n",
       "      <th>medv</th>\n",
       "    </tr>\n",
       "  </thead>\n",
       "  <tbody>\n",
       "    <tr>\n",
       "      <th>0</th>\n",
       "      <td>0.00632</td>\n",
       "      <td>18.0</td>\n",
       "      <td>2.31</td>\n",
       "      <td>0</td>\n",
       "      <td>0.538</td>\n",
       "      <td>6.575</td>\n",
       "      <td>65.2</td>\n",
       "      <td>4.0900</td>\n",
       "      <td>1</td>\n",
       "      <td>296</td>\n",
       "      <td>15.3</td>\n",
       "      <td>396.90</td>\n",
       "      <td>4.98</td>\n",
       "      <td>24.0</td>\n",
       "    </tr>\n",
       "    <tr>\n",
       "      <th>1</th>\n",
       "      <td>0.02731</td>\n",
       "      <td>0.0</td>\n",
       "      <td>7.07</td>\n",
       "      <td>0</td>\n",
       "      <td>0.469</td>\n",
       "      <td>6.421</td>\n",
       "      <td>78.9</td>\n",
       "      <td>4.9671</td>\n",
       "      <td>2</td>\n",
       "      <td>242</td>\n",
       "      <td>17.8</td>\n",
       "      <td>396.90</td>\n",
       "      <td>9.14</td>\n",
       "      <td>21.6</td>\n",
       "    </tr>\n",
       "    <tr>\n",
       "      <th>2</th>\n",
       "      <td>0.02729</td>\n",
       "      <td>0.0</td>\n",
       "      <td>7.07</td>\n",
       "      <td>0</td>\n",
       "      <td>0.469</td>\n",
       "      <td>7.185</td>\n",
       "      <td>61.1</td>\n",
       "      <td>4.9671</td>\n",
       "      <td>2</td>\n",
       "      <td>242</td>\n",
       "      <td>17.8</td>\n",
       "      <td>392.83</td>\n",
       "      <td>4.03</td>\n",
       "      <td>34.7</td>\n",
       "    </tr>\n",
       "    <tr>\n",
       "      <th>3</th>\n",
       "      <td>0.03237</td>\n",
       "      <td>0.0</td>\n",
       "      <td>2.18</td>\n",
       "      <td>0</td>\n",
       "      <td>0.458</td>\n",
       "      <td>6.998</td>\n",
       "      <td>45.8</td>\n",
       "      <td>6.0622</td>\n",
       "      <td>3</td>\n",
       "      <td>222</td>\n",
       "      <td>18.7</td>\n",
       "      <td>394.63</td>\n",
       "      <td>2.94</td>\n",
       "      <td>33.4</td>\n",
       "    </tr>\n",
       "    <tr>\n",
       "      <th>4</th>\n",
       "      <td>0.06905</td>\n",
       "      <td>0.0</td>\n",
       "      <td>2.18</td>\n",
       "      <td>0</td>\n",
       "      <td>0.458</td>\n",
       "      <td>7.147</td>\n",
       "      <td>54.2</td>\n",
       "      <td>6.0622</td>\n",
       "      <td>3</td>\n",
       "      <td>222</td>\n",
       "      <td>18.7</td>\n",
       "      <td>396.90</td>\n",
       "      <td>5.33</td>\n",
       "      <td>36.2</td>\n",
       "    </tr>\n",
       "  </tbody>\n",
       "</table>\n",
       "</div>"
      ],
      "text/plain": [
       "      crim    zn  indus  chas    nox     rm   age     dis  rad  tax  ptratio  \\\n",
       "0  0.00632  18.0   2.31     0  0.538  6.575  65.2  4.0900    1  296     15.3   \n",
       "1  0.02731   0.0   7.07     0  0.469  6.421  78.9  4.9671    2  242     17.8   \n",
       "2  0.02729   0.0   7.07     0  0.469  7.185  61.1  4.9671    2  242     17.8   \n",
       "3  0.03237   0.0   2.18     0  0.458  6.998  45.8  6.0622    3  222     18.7   \n",
       "4  0.06905   0.0   2.18     0  0.458  7.147  54.2  6.0622    3  222     18.7   \n",
       "\n",
       "        b  lstat  medv  \n",
       "0  396.90   4.98  24.0  \n",
       "1  396.90   9.14  21.6  \n",
       "2  392.83   4.03  34.7  \n",
       "3  394.63   2.94  33.4  \n",
       "4  396.90   5.33  36.2  "
      ]
     },
     "execution_count": 2,
     "metadata": {},
     "output_type": "execute_result"
    }
   ],
   "source": [
    "#To load the dataset\n",
    "df=pd.read_csv('BostonHousing.csv')\n",
    "df.head()"
   ]
  },
  {
   "cell_type": "code",
   "execution_count": 3,
   "id": "56b030ed",
   "metadata": {},
   "outputs": [
    {
     "data": {
      "text/plain": [
       "(506, 14)"
      ]
     },
     "execution_count": 3,
     "metadata": {},
     "output_type": "execute_result"
    }
   ],
   "source": [
    "#To check number of rows and columns\n",
    "df.shape"
   ]
  },
  {
   "cell_type": "code",
   "execution_count": 4,
   "id": "7b57f43e",
   "metadata": {},
   "outputs": [
    {
     "data": {
      "text/html": [
       "<div>\n",
       "<style scoped>\n",
       "    .dataframe tbody tr th:only-of-type {\n",
       "        vertical-align: middle;\n",
       "    }\n",
       "\n",
       "    .dataframe tbody tr th {\n",
       "        vertical-align: top;\n",
       "    }\n",
       "\n",
       "    .dataframe thead th {\n",
       "        text-align: right;\n",
       "    }\n",
       "</style>\n",
       "<table border=\"1\" class=\"dataframe\">\n",
       "  <thead>\n",
       "    <tr style=\"text-align: right;\">\n",
       "      <th></th>\n",
       "      <th>crim</th>\n",
       "      <th>zn</th>\n",
       "      <th>indus</th>\n",
       "      <th>chas</th>\n",
       "      <th>nox</th>\n",
       "      <th>rm</th>\n",
       "      <th>age</th>\n",
       "      <th>dis</th>\n",
       "      <th>rad</th>\n",
       "      <th>tax</th>\n",
       "      <th>ptratio</th>\n",
       "      <th>b</th>\n",
       "      <th>lstat</th>\n",
       "      <th>medv</th>\n",
       "    </tr>\n",
       "  </thead>\n",
       "  <tbody>\n",
       "    <tr>\n",
       "      <th>count</th>\n",
       "      <td>506.000000</td>\n",
       "      <td>506.000000</td>\n",
       "      <td>506.000000</td>\n",
       "      <td>506.000000</td>\n",
       "      <td>506.000000</td>\n",
       "      <td>506.000000</td>\n",
       "      <td>506.000000</td>\n",
       "      <td>506.000000</td>\n",
       "      <td>506.000000</td>\n",
       "      <td>506.000000</td>\n",
       "      <td>506.000000</td>\n",
       "      <td>506.000000</td>\n",
       "      <td>506.000000</td>\n",
       "      <td>506.000000</td>\n",
       "    </tr>\n",
       "    <tr>\n",
       "      <th>mean</th>\n",
       "      <td>3.613524</td>\n",
       "      <td>11.363636</td>\n",
       "      <td>11.136779</td>\n",
       "      <td>0.069170</td>\n",
       "      <td>0.554695</td>\n",
       "      <td>6.284634</td>\n",
       "      <td>68.574901</td>\n",
       "      <td>3.795043</td>\n",
       "      <td>9.549407</td>\n",
       "      <td>408.237154</td>\n",
       "      <td>18.455534</td>\n",
       "      <td>356.674032</td>\n",
       "      <td>12.653063</td>\n",
       "      <td>22.532806</td>\n",
       "    </tr>\n",
       "    <tr>\n",
       "      <th>std</th>\n",
       "      <td>8.601545</td>\n",
       "      <td>23.322453</td>\n",
       "      <td>6.860353</td>\n",
       "      <td>0.253994</td>\n",
       "      <td>0.115878</td>\n",
       "      <td>0.702617</td>\n",
       "      <td>28.148861</td>\n",
       "      <td>2.105710</td>\n",
       "      <td>8.707259</td>\n",
       "      <td>168.537116</td>\n",
       "      <td>2.164946</td>\n",
       "      <td>91.294864</td>\n",
       "      <td>7.141062</td>\n",
       "      <td>9.197104</td>\n",
       "    </tr>\n",
       "    <tr>\n",
       "      <th>min</th>\n",
       "      <td>0.006320</td>\n",
       "      <td>0.000000</td>\n",
       "      <td>0.460000</td>\n",
       "      <td>0.000000</td>\n",
       "      <td>0.385000</td>\n",
       "      <td>3.561000</td>\n",
       "      <td>2.900000</td>\n",
       "      <td>1.129600</td>\n",
       "      <td>1.000000</td>\n",
       "      <td>187.000000</td>\n",
       "      <td>12.600000</td>\n",
       "      <td>0.320000</td>\n",
       "      <td>1.730000</td>\n",
       "      <td>5.000000</td>\n",
       "    </tr>\n",
       "    <tr>\n",
       "      <th>25%</th>\n",
       "      <td>0.082045</td>\n",
       "      <td>0.000000</td>\n",
       "      <td>5.190000</td>\n",
       "      <td>0.000000</td>\n",
       "      <td>0.449000</td>\n",
       "      <td>5.885500</td>\n",
       "      <td>45.025000</td>\n",
       "      <td>2.100175</td>\n",
       "      <td>4.000000</td>\n",
       "      <td>279.000000</td>\n",
       "      <td>17.400000</td>\n",
       "      <td>375.377500</td>\n",
       "      <td>6.950000</td>\n",
       "      <td>17.025000</td>\n",
       "    </tr>\n",
       "    <tr>\n",
       "      <th>50%</th>\n",
       "      <td>0.256510</td>\n",
       "      <td>0.000000</td>\n",
       "      <td>9.690000</td>\n",
       "      <td>0.000000</td>\n",
       "      <td>0.538000</td>\n",
       "      <td>6.208500</td>\n",
       "      <td>77.500000</td>\n",
       "      <td>3.207450</td>\n",
       "      <td>5.000000</td>\n",
       "      <td>330.000000</td>\n",
       "      <td>19.050000</td>\n",
       "      <td>391.440000</td>\n",
       "      <td>11.360000</td>\n",
       "      <td>21.200000</td>\n",
       "    </tr>\n",
       "    <tr>\n",
       "      <th>75%</th>\n",
       "      <td>3.677083</td>\n",
       "      <td>12.500000</td>\n",
       "      <td>18.100000</td>\n",
       "      <td>0.000000</td>\n",
       "      <td>0.624000</td>\n",
       "      <td>6.623500</td>\n",
       "      <td>94.075000</td>\n",
       "      <td>5.188425</td>\n",
       "      <td>24.000000</td>\n",
       "      <td>666.000000</td>\n",
       "      <td>20.200000</td>\n",
       "      <td>396.225000</td>\n",
       "      <td>16.955000</td>\n",
       "      <td>25.000000</td>\n",
       "    </tr>\n",
       "    <tr>\n",
       "      <th>max</th>\n",
       "      <td>88.976200</td>\n",
       "      <td>100.000000</td>\n",
       "      <td>27.740000</td>\n",
       "      <td>1.000000</td>\n",
       "      <td>0.871000</td>\n",
       "      <td>8.780000</td>\n",
       "      <td>100.000000</td>\n",
       "      <td>12.126500</td>\n",
       "      <td>24.000000</td>\n",
       "      <td>711.000000</td>\n",
       "      <td>22.000000</td>\n",
       "      <td>396.900000</td>\n",
       "      <td>37.970000</td>\n",
       "      <td>50.000000</td>\n",
       "    </tr>\n",
       "  </tbody>\n",
       "</table>\n",
       "</div>"
      ],
      "text/plain": [
       "             crim          zn       indus        chas         nox          rm  \\\n",
       "count  506.000000  506.000000  506.000000  506.000000  506.000000  506.000000   \n",
       "mean     3.613524   11.363636   11.136779    0.069170    0.554695    6.284634   \n",
       "std      8.601545   23.322453    6.860353    0.253994    0.115878    0.702617   \n",
       "min      0.006320    0.000000    0.460000    0.000000    0.385000    3.561000   \n",
       "25%      0.082045    0.000000    5.190000    0.000000    0.449000    5.885500   \n",
       "50%      0.256510    0.000000    9.690000    0.000000    0.538000    6.208500   \n",
       "75%      3.677083   12.500000   18.100000    0.000000    0.624000    6.623500   \n",
       "max     88.976200  100.000000   27.740000    1.000000    0.871000    8.780000   \n",
       "\n",
       "              age         dis         rad         tax     ptratio           b  \\\n",
       "count  506.000000  506.000000  506.000000  506.000000  506.000000  506.000000   \n",
       "mean    68.574901    3.795043    9.549407  408.237154   18.455534  356.674032   \n",
       "std     28.148861    2.105710    8.707259  168.537116    2.164946   91.294864   \n",
       "min      2.900000    1.129600    1.000000  187.000000   12.600000    0.320000   \n",
       "25%     45.025000    2.100175    4.000000  279.000000   17.400000  375.377500   \n",
       "50%     77.500000    3.207450    5.000000  330.000000   19.050000  391.440000   \n",
       "75%     94.075000    5.188425   24.000000  666.000000   20.200000  396.225000   \n",
       "max    100.000000   12.126500   24.000000  711.000000   22.000000  396.900000   \n",
       "\n",
       "            lstat        medv  \n",
       "count  506.000000  506.000000  \n",
       "mean    12.653063   22.532806  \n",
       "std      7.141062    9.197104  \n",
       "min      1.730000    5.000000  \n",
       "25%      6.950000   17.025000  \n",
       "50%     11.360000   21.200000  \n",
       "75%     16.955000   25.000000  \n",
       "max     37.970000   50.000000  "
      ]
     },
     "execution_count": 4,
     "metadata": {},
     "output_type": "execute_result"
    }
   ],
   "source": [
    "#To get the statistics information about dataset\n",
    "df.describe()"
   ]
  },
  {
   "cell_type": "code",
   "execution_count": 5,
   "id": "ddbe96f9",
   "metadata": {},
   "outputs": [
    {
     "data": {
      "text/plain": [
       "crim       0\n",
       "zn         0\n",
       "indus      0\n",
       "chas       0\n",
       "nox        0\n",
       "rm         0\n",
       "age        0\n",
       "dis        0\n",
       "rad        0\n",
       "tax        0\n",
       "ptratio    0\n",
       "b          0\n",
       "lstat      0\n",
       "medv       0\n",
       "dtype: int64"
      ]
     },
     "execution_count": 5,
     "metadata": {},
     "output_type": "execute_result"
    }
   ],
   "source": [
    "#To check the null values\n",
    "df.isnull().sum()"
   ]
  },
  {
   "cell_type": "code",
   "execution_count": 6,
   "id": "ec6c4543",
   "metadata": {},
   "outputs": [
    {
     "data": {
      "image/png": "[encoded data removed]",
      "text/plain": [
       "<Figure size 432x288 with 2 Axes>"
      ]
     },
     "metadata": {
      "needs_background": "light"
     },
     "output_type": "display_data"
    }
   ],
   "source": [
    "#To visualize the null values\n",
    "sb.heatmap(df.isnull())\n",
    "plt.show()"
   ]
  },
  {
   "cell_type": "code",
   "execution_count": 7,
   "id": "f4b4d02d",
   "metadata": {},
   "outputs": [
    {
     "data": {
      "text/plain": [
       "crim       float64\n",
       "zn         float64\n",
       "indus      float64\n",
       "chas         int64\n",
       "nox        float64\n",
       "rm         float64\n",
       "age        float64\n",
       "dis        float64\n",
       "rad          int64\n",
       "tax          int64\n",
       "ptratio    float64\n",
       "b          float64\n",
       "lstat      float64\n",
       "medv       float64\n",
       "dtype: object"
      ]
     },
     "execution_count": 7,
     "metadata": {},
     "output_type": "execute_result"
    }
   ],
   "source": [
    "#To check the datatype\n",
    "df.dtypes"
   ]
  },
  {
   "cell_type": "code",
   "execution_count": 8,
   "id": "ec3a6481",
   "metadata": {},
   "outputs": [
    {
     "data": {
      "image/png": "[encoded data removed]",
      "text/plain": [
       "<Figure size 720x720 with 2 Axes>"
      ]
     },
     "metadata": {
      "needs_background": "light"
     },
     "output_type": "display_data"
    }
   ],
   "source": [
    "#To check/visualize  the correlation\n",
    "plt.figure(figsize=(10,10))\n",
    "sb.heatmap(df.corr(),annot=True)\n",
    "plt.show()"
   ]
  },
  {
   "cell_type": "code",
   "execution_count": 9,
   "id": "9f15e9bd",
   "metadata": {},
   "outputs": [],
   "source": [
    "#From above heatmap we can see the correlation of output[i.e:medv] with others\n",
    "#So we are going to drop all the columns whose correlation are not good with output\n",
    "A=df[['crim','zn','chas','nox','age','dis','rad','b']]\n",
    "df.drop(A,axis=1,inplace=True)"
   ]
  },
  {
   "cell_type": "code",
   "execution_count": 10,
   "id": "3f37dbbe",
   "metadata": {},
   "outputs": [],
   "source": [
    "#Now we have dropped all the non correlational column\n",
    "#We are now dropping the columns which have strong correlation with each other\n",
    "#So that it wont' affect the predicted output and help to fullfill the assumption\n",
    "A=df[['indus','rm','tax','ptratio']]\n",
    "df.drop(A,axis=1,inplace=True)"
   ]
  },
  {
   "cell_type": "code",
   "execution_count": 11,
   "id": "9c8e1d3b",
   "metadata": {},
   "outputs": [],
   "source": [
    "#So we  are left with one input and one output\n",
    "#Now we are going to use this data in model making\n",
    "X=df[['lstat']]\n",
    "Y=df['medv']"
   ]
  },
  {
   "cell_type": "code",
   "execution_count": 12,
   "id": "75802ca0",
   "metadata": {},
   "outputs": [],
   "source": [
    "#To split the data into training and testing\n",
    "#We have to import inbuilt library from sklearn\n",
    "from sklearn.model_selection import train_test_split\n",
    "X_train,X_test,Y_train,Y_test=train_test_split(X,Y,test_size=0.3,random_state=1)"
   ]
  },
  {
   "cell_type": "code",
   "execution_count": 13,
   "id": "d86cb084",
   "metadata": {},
   "outputs": [
    {
     "data": {
      "text/html": [
       "<div>\n",
       "<style scoped>\n",
       "    .dataframe tbody tr th:only-of-type {\n",
       "        vertical-align: middle;\n",
       "    }\n",
       "\n",
       "    .dataframe tbody tr th {\n",
       "        vertical-align: top;\n",
       "    }\n",
       "\n",
       "    .dataframe thead th {\n",
       "        text-align: right;\n",
       "    }\n",
       "</style>\n",
       "<table border=\"1\" class=\"dataframe\">\n",
       "  <thead>\n",
       "    <tr style=\"text-align: right;\">\n",
       "      <th></th>\n",
       "      <th>lstat</th>\n",
       "    </tr>\n",
       "  </thead>\n",
       "  <tbody>\n",
       "    <tr>\n",
       "      <th>13</th>\n",
       "      <td>8.26</td>\n",
       "    </tr>\n",
       "    <tr>\n",
       "      <th>61</th>\n",
       "      <td>14.44</td>\n",
       "    </tr>\n",
       "    <tr>\n",
       "      <th>377</th>\n",
       "      <td>21.24</td>\n",
       "    </tr>\n",
       "    <tr>\n",
       "      <th>39</th>\n",
       "      <td>4.32</td>\n",
       "    </tr>\n",
       "    <tr>\n",
       "      <th>365</th>\n",
       "      <td>7.12</td>\n",
       "    </tr>\n",
       "  </tbody>\n",
       "</table>\n",
       "</div>"
      ],
      "text/plain": [
       "     lstat\n",
       "13    8.26\n",
       "61   14.44\n",
       "377  21.24\n",
       "39    4.32\n",
       "365   7.12"
      ]
     },
     "execution_count": 13,
     "metadata": {},
     "output_type": "execute_result"
    }
   ],
   "source": [
    "X_train.head()"
   ]
  },
  {
   "cell_type": "code",
   "execution_count": 14,
   "id": "aaf9ac51",
   "metadata": {},
   "outputs": [],
   "source": [
    "#To do scaling on input data \n",
    "#We are going to use standardscalar on dataset for scaling\n",
    "from sklearn.preprocessing import StandardScaler\n",
    "ss=StandardScaler()\n",
    "X_train=ss.fit_transform(X_train)\n",
    "X_test=ss.transform(X_test)"
   ]
  },
  {
   "cell_type": "code",
   "execution_count": 15,
   "id": "90a94cd6",
   "metadata": {},
   "outputs": [],
   "source": [
    "#To train the data with LinearRegression using inbuilt function\n",
    "from sklearn.linear_model import LinearRegression\n",
    "lr=LinearRegression()"
   ]
  },
  {
   "cell_type": "code",
   "execution_count": 16,
   "id": "7ac513e5",
   "metadata": {},
   "outputs": [
    {
     "data": {
      "text/plain": [
       "LinearRegression()"
      ]
     },
     "execution_count": 16,
     "metadata": {},
     "output_type": "execute_result"
    }
   ],
   "source": [
    "#To fit the data in machine\n",
    "lr.fit(X_train,Y_train)"
   ]
  },
  {
   "cell_type": "code",
   "execution_count": 17,
   "id": "119f0d56",
   "metadata": {},
   "outputs": [
    {
     "name": "stdout",
     "output_type": "stream",
     "text": [
      "Slope: [-6.66258272]\n"
     ]
    }
   ],
   "source": [
    "#To check the slope\n",
    "print(\"Slope:\",lr.coef_)"
   ]
  },
  {
   "cell_type": "code",
   "execution_count": 18,
   "id": "3d63ca74",
   "metadata": {},
   "outputs": [
    {
     "name": "stdout",
     "output_type": "stream",
     "text": [
      "Intercept 22.339830508474574\n"
     ]
    }
   ],
   "source": [
    "#To check the intercept\n",
    "print(\"Intercept\",lr.intercept_)"
   ]
  },
  {
   "cell_type": "code",
   "execution_count": 19,
   "id": "2edbd7a1",
   "metadata": {},
   "outputs": [],
   "source": [
    "#To get the predicted output using predict\n",
    "Y_pred=lr.predict(X_test)"
   ]
  },
  {
   "cell_type": "code",
   "execution_count": 20,
   "id": "6e715ba7",
   "metadata": {},
   "outputs": [
    {
     "data": {
      "text/html": [
       "<div>\n",
       "<style scoped>\n",
       "    .dataframe tbody tr th:only-of-type {\n",
       "        vertical-align: middle;\n",
       "    }\n",
       "\n",
       "    .dataframe tbody tr th {\n",
       "        vertical-align: top;\n",
       "    }\n",
       "\n",
       "    .dataframe thead th {\n",
       "        text-align: right;\n",
       "    }\n",
       "</style>\n",
       "<table border=\"1\" class=\"dataframe\">\n",
       "  <thead>\n",
       "    <tr style=\"text-align: right;\">\n",
       "      <th></th>\n",
       "      <th>Actual Output</th>\n",
       "      <th>Predicted Output</th>\n",
       "      <th>Input</th>\n",
       "    </tr>\n",
       "  </thead>\n",
       "  <tbody>\n",
       "    <tr>\n",
       "      <th>307</th>\n",
       "      <td>28.2</td>\n",
       "      <td>27.319149</td>\n",
       "      <td>-0.747356</td>\n",
       "    </tr>\n",
       "    <tr>\n",
       "      <th>343</th>\n",
       "      <td>23.9</td>\n",
       "      <td>27.639991</td>\n",
       "      <td>-0.795511</td>\n",
       "    </tr>\n",
       "    <tr>\n",
       "      <th>47</th>\n",
       "      <td>16.6</td>\n",
       "      <td>16.988035</td>\n",
       "      <td>0.803261</td>\n",
       "    </tr>\n",
       "    <tr>\n",
       "      <th>67</th>\n",
       "      <td>22.0</td>\n",
       "      <td>26.796635</td>\n",
       "      <td>-0.668930</td>\n",
       "    </tr>\n",
       "    <tr>\n",
       "      <th>362</th>\n",
       "      <td>20.8</td>\n",
       "      <td>24.880749</td>\n",
       "      <td>-0.381371</td>\n",
       "    </tr>\n",
       "    <tr>\n",
       "      <th>...</th>\n",
       "      <td>...</td>\n",
       "      <td>...</td>\n",
       "      <td>...</td>\n",
       "    </tr>\n",
       "    <tr>\n",
       "      <th>467</th>\n",
       "      <td>19.1</td>\n",
       "      <td>14.677972</td>\n",
       "      <td>1.149983</td>\n",
       "    </tr>\n",
       "    <tr>\n",
       "      <th>95</th>\n",
       "      <td>28.4</td>\n",
       "      <td>28.125838</td>\n",
       "      <td>-0.868433</td>\n",
       "    </tr>\n",
       "    <tr>\n",
       "      <th>122</th>\n",
       "      <td>20.5</td>\n",
       "      <td>17.785556</td>\n",
       "      <td>0.683560</td>\n",
       "    </tr>\n",
       "    <tr>\n",
       "      <th>260</th>\n",
       "      <td>33.8</td>\n",
       "      <td>25.430764</td>\n",
       "      <td>-0.463924</td>\n",
       "    </tr>\n",
       "    <tr>\n",
       "      <th>23</th>\n",
       "      <td>14.5</td>\n",
       "      <td>15.998008</td>\n",
       "      <td>0.951857</td>\n",
       "    </tr>\n",
       "  </tbody>\n",
       "</table>\n",
       "<p>152 rows × 3 columns</p>\n",
       "</div>"
      ],
      "text/plain": [
       "     Actual Output  Predicted Output     Input\n",
       "307           28.2         27.319149 -0.747356\n",
       "343           23.9         27.639991 -0.795511\n",
       "47            16.6         16.988035  0.803261\n",
       "67            22.0         26.796635 -0.668930\n",
       "362           20.8         24.880749 -0.381371\n",
       "..             ...               ...       ...\n",
       "467           19.1         14.677972  1.149983\n",
       "95            28.4         28.125838 -0.868433\n",
       "122           20.5         17.785556  0.683560\n",
       "260           33.8         25.430764 -0.463924\n",
       "23            14.5         15.998008  0.951857\n",
       "\n",
       "[152 rows x 3 columns]"
      ]
     },
     "execution_count": 20,
     "metadata": {},
     "output_type": "execute_result"
    }
   ],
   "source": [
    "#To create the dataframe of actual output and predicted output\n",
    "dict={'Actual Output':Y_test,'Predicted Output':Y_pred}\n",
    "df1=pd.DataFrame(dict)\n",
    "df1['Input']=X_test\n",
    "df1"
   ]
  },
  {
   "cell_type": "code",
   "execution_count": 21,
   "id": "25afba53",
   "metadata": {},
   "outputs": [
    {
     "name": "stdout",
     "output_type": "stream",
     "text": [
      "Training Score 0.5467486221534437\n",
      "Testing Score 0.5349901044757204\n"
     ]
    }
   ],
   "source": [
    "#To check the training and testing scores\n",
    "print('Training Score',lr.score(X_train,Y_train))\n",
    "print('Testing Score',lr.score(X_test,Y_test))"
   ]
  },
  {
   "cell_type": "code",
   "execution_count": 22,
   "id": "c604e382",
   "metadata": {},
   "outputs": [
    {
     "name": "stdout",
     "output_type": "stream",
     "text": [
      "Mean_Squared_Error: 42.62024347153971\n",
      "Root_Mean_Squared_Error 6.528418144661057\n"
     ]
    }
   ],
   "source": [
    "#Evaluate the model\n",
    "from sklearn.metrics import mean_squared_error\n",
    "mse=mean_squared_error(Y_test,Y_pred)\n",
    "print(\"Mean_Squared_Error:\",mse)\n",
    "rmse=np.sqrt(mse)\n",
    "print(\"Root_Mean_Squared_Error\",rmse)"
   ]
  },
  {
   "cell_type": "code",
   "execution_count": 23,
   "id": "6489277e",
   "metadata": {},
   "outputs": [
    {
     "name": "stdout",
     "output_type": "stream",
     "text": [
      "The r2_score is : 0.5349901044757204\n"
     ]
    }
   ],
   "source": [
    "#To find r2_score\n",
    "from sklearn.metrics import r2_score\n",
    "print(\"The r2_score is :\",r2_score(Y_test,Y_pred))\n",
    "#The r2_score is average not good and not bad too"
   ]
  },
  {
   "cell_type": "code",
   "execution_count": 24,
   "id": "1a0c42af",
   "metadata": {},
   "outputs": [],
   "source": [
    "#Now we are going to check the assumption\n",
    "#As we have drop the columns above of correlated part\n",
    "#So our first assumption is fulfilled of Multicollinearity"
   ]
  },
  {
   "cell_type": "code",
   "execution_count": 25,
   "id": "5526a582",
   "metadata": {},
   "outputs": [
    {
     "data": {
      "text/html": [
       "<div>\n",
       "<style scoped>\n",
       "    .dataframe tbody tr th:only-of-type {\n",
       "        vertical-align: middle;\n",
       "    }\n",
       "\n",
       "    .dataframe tbody tr th {\n",
       "        vertical-align: top;\n",
       "    }\n",
       "\n",
       "    .dataframe thead th {\n",
       "        text-align: right;\n",
       "    }\n",
       "</style>\n",
       "<table border=\"1\" class=\"dataframe\">\n",
       "  <thead>\n",
       "    <tr style=\"text-align: right;\">\n",
       "      <th></th>\n",
       "      <th>Residual</th>\n",
       "      <th>Predicted Output</th>\n",
       "    </tr>\n",
       "  </thead>\n",
       "  <tbody>\n",
       "    <tr>\n",
       "      <th>307</th>\n",
       "      <td>0.880851</td>\n",
       "      <td>27.319149</td>\n",
       "    </tr>\n",
       "    <tr>\n",
       "      <th>343</th>\n",
       "      <td>-3.739991</td>\n",
       "      <td>27.639991</td>\n",
       "    </tr>\n",
       "    <tr>\n",
       "      <th>47</th>\n",
       "      <td>-0.388035</td>\n",
       "      <td>16.988035</td>\n",
       "    </tr>\n",
       "    <tr>\n",
       "      <th>67</th>\n",
       "      <td>-4.796635</td>\n",
       "      <td>26.796635</td>\n",
       "    </tr>\n",
       "    <tr>\n",
       "      <th>362</th>\n",
       "      <td>-4.080749</td>\n",
       "      <td>24.880749</td>\n",
       "    </tr>\n",
       "  </tbody>\n",
       "</table>\n",
       "</div>"
      ],
      "text/plain": [
       "     Residual  Predicted Output\n",
       "307  0.880851         27.319149\n",
       "343 -3.739991         27.639991\n",
       "47  -0.388035         16.988035\n",
       "67  -4.796635         26.796635\n",
       "362 -4.080749         24.880749"
      ]
     },
     "execution_count": 25,
     "metadata": {},
     "output_type": "execute_result"
    }
   ],
   "source": [
    "#Taking residual\n",
    "residual=Y_test-Y_pred\n",
    "dict={'Residual':residual,'Predicted Output':Y_pred}\n",
    "df2=pd.DataFrame(dict)\n",
    "df2.head()"
   ]
  },
  {
   "cell_type": "code",
   "execution_count": 26,
   "id": "aa403ff6",
   "metadata": {},
   "outputs": [
    {
     "data": {
      "image/png": "[encoded data removed]",
      "text/plain": [
       "<Figure size 432x288 with 1 Axes>"
      ]
     },
     "metadata": {
      "needs_background": "light"
     },
     "output_type": "display_data"
    }
   ],
   "source": [
    "#2nd Assumption\n",
    "#To check linear regression between residue and y_pred using scatter plot\n",
    "sb.scatterplot(data=df2,x='Residual',y='Predicted Output')\n",
    "plt.show()"
   ]
  },
  {
   "cell_type": "code",
   "execution_count": 27,
   "id": "81d53297",
   "metadata": {},
   "outputs": [],
   "source": [
    "#In the above plot we can see that there is very low linear regression\n",
    "#So 2nd assumption is failed\n",
    "#3rd assumption is also failed because the points are hetroskedastik"
   ]
  },
  {
   "cell_type": "code",
   "execution_count": 28,
   "id": "61efd9e4",
   "metadata": {},
   "outputs": [
    {
     "data": {
      "image/png": "[encoded data removed]",
      "text/plain": [
       "<Figure size 432x288 with 1 Axes>"
      ]
     },
     "metadata": {
      "needs_background": "light"
     },
     "output_type": "display_data"
    }
   ],
   "source": [
    "#4th assumption to check normal distribution of data\n",
    "sb.histplot(data=df,x=residual)\n",
    "plt.show()\n",
    "#Here we can see data is not normalized\n",
    "#So 4th assumption is also failed"
   ]
  },
  {
   "cell_type": "code",
   "execution_count": 29,
   "id": "ee1f5678",
   "metadata": {},
   "outputs": [
    {
     "data": {
      "text/plain": [
       "1.5766932256272943"
      ]
     },
     "execution_count": 29,
     "metadata": {},
     "output_type": "execute_result"
    }
   ],
   "source": [
    "#To see the skewness\n",
    "df2['Residual'].skew()"
   ]
  },
  {
   "cell_type": "code",
   "execution_count": 30,
   "id": "20618171",
   "metadata": {},
   "outputs": [],
   "source": [
    "#So we have to do polynomial linear regression\n",
    "#Assuming Degree as 2\n",
    "#Using inbuilt class of Polynomial features\n",
    "from sklearn.preprocessing import PolynomialFeatures\n",
    "#Create object of polynomial features with 2 degree\n",
    "pf=PolynomialFeatures(2)\n"
   ]
  },
  {
   "cell_type": "code",
   "execution_count": 31,
   "id": "d6713234",
   "metadata": {},
   "outputs": [
    {
     "data": {
      "text/plain": [
       "array([[ 1.    ,  4.98  , 24.8004],\n",
       "       [ 1.    ,  9.14  , 83.5396],\n",
       "       [ 1.    ,  4.03  , 16.2409],\n",
       "       ...,\n",
       "       [ 1.    ,  5.64  , 31.8096],\n",
       "       [ 1.    ,  6.48  , 41.9904],\n",
       "       [ 1.    ,  7.88  , 62.0944]])"
      ]
     },
     "execution_count": 31,
     "metadata": {},
     "output_type": "execute_result"
    }
   ],
   "source": [
    "X_poly=pf.fit_transform(X)\n",
    "X_poly"
   ]
  },
  {
   "cell_type": "code",
   "execution_count": 32,
   "id": "ab94bb19",
   "metadata": {},
   "outputs": [],
   "source": [
    "# Split the data\n",
    "X_train,X_test,Y_train,Y_test=train_test_split(X_poly,Y,test_size=0.3,random_state=1)"
   ]
  },
  {
   "cell_type": "code",
   "execution_count": 33,
   "id": "9bcac291",
   "metadata": {},
   "outputs": [],
   "source": [
    "#Scaling we do only independent variable not on dependent variable\n",
    "from sklearn.preprocessing import StandardScaler\n",
    "ss=StandardScaler()\n",
    "X_train=ss.fit_transform(X_train)   \n",
    "#test data we only perform transform method of StandardScaler class\n",
    "X_test=ss.transform(X_test)  "
   ]
  },
  {
   "cell_type": "code",
   "execution_count": 34,
   "id": "94b9a0f6",
   "metadata": {},
   "outputs": [],
   "source": [
    "# create object for LinearRegression class to train the machine\n",
    "lr=LinearRegression()"
   ]
  },
  {
   "cell_type": "code",
   "execution_count": 35,
   "id": "7fd51497",
   "metadata": {},
   "outputs": [
    {
     "data": {
      "text/plain": [
       "LinearRegression()"
      ]
     },
     "execution_count": 35,
     "metadata": {},
     "output_type": "execute_result"
    }
   ],
   "source": [
    "#Train the model\n",
    "lr.fit(X_train,Y_train)"
   ]
  },
  {
   "cell_type": "code",
   "execution_count": 36,
   "id": "0a864101",
   "metadata": {},
   "outputs": [],
   "source": [
    "# Test the model with 30% data\n",
    "Y_pred=lr.predict(X_test)"
   ]
  },
  {
   "cell_type": "code",
   "execution_count": 37,
   "id": "94f09e1f",
   "metadata": {},
   "outputs": [
    {
     "name": "stdout",
     "output_type": "stream",
     "text": [
      "Slope: [  0.         -16.52534655  10.27689148]\n"
     ]
    }
   ],
   "source": [
    "#To check the slope\n",
    "m=lr.coef_\n",
    "print(\"Slope:\",m)"
   ]
  },
  {
   "cell_type": "code",
   "execution_count": 38,
   "id": "fd1e85a0",
   "metadata": {},
   "outputs": [
    {
     "name": "stdout",
     "output_type": "stream",
     "text": [
      "Intercept: 22.33983050847456\n"
     ]
    }
   ],
   "source": [
    "#To check intercept\n",
    "c=lr.intercept_\n",
    "print(\"Intercept:\",c)"
   ]
  },
  {
   "cell_type": "code",
   "execution_count": 39,
   "id": "3ac6687e",
   "metadata": {},
   "outputs": [
    {
     "data": {
      "text/html": [
       "<div>\n",
       "<style scoped>\n",
       "    .dataframe tbody tr th:only-of-type {\n",
       "        vertical-align: middle;\n",
       "    }\n",
       "\n",
       "    .dataframe tbody tr th {\n",
       "        vertical-align: top;\n",
       "    }\n",
       "\n",
       "    .dataframe thead th {\n",
       "        text-align: right;\n",
       "    }\n",
       "</style>\n",
       "<table border=\"1\" class=\"dataframe\">\n",
       "  <thead>\n",
       "    <tr style=\"text-align: right;\">\n",
       "      <th></th>\n",
       "      <th>Predict output</th>\n",
       "      <th>Actual Output</th>\n",
       "    </tr>\n",
       "  </thead>\n",
       "  <tbody>\n",
       "    <tr>\n",
       "      <th>307</th>\n",
       "      <td>27.844264</td>\n",
       "      <td>28.2</td>\n",
       "    </tr>\n",
       "    <tr>\n",
       "      <th>343</th>\n",
       "      <td>28.425316</td>\n",
       "      <td>23.9</td>\n",
       "    </tr>\n",
       "    <tr>\n",
       "      <th>47</th>\n",
       "      <td>14.596553</td>\n",
       "      <td>16.6</td>\n",
       "    </tr>\n",
       "    <tr>\n",
       "      <th>67</th>\n",
       "      <td>26.919853</td>\n",
       "      <td>22.0</td>\n",
       "    </tr>\n",
       "    <tr>\n",
       "      <th>362</th>\n",
       "      <td>23.762224</td>\n",
       "      <td>20.8</td>\n",
       "    </tr>\n",
       "  </tbody>\n",
       "</table>\n",
       "</div>"
      ],
      "text/plain": [
       "     Predict output  Actual Output\n",
       "307       27.844264           28.2\n",
       "343       28.425316           23.9\n",
       "47        14.596553           16.6\n",
       "67        26.919853           22.0\n",
       "362       23.762224           20.8"
      ]
     },
     "execution_count": 39,
     "metadata": {},
     "output_type": "execute_result"
    }
   ],
   "source": [
    "dict={'Predict output':Y_pred,'Actual Output':Y_test}\n",
    "df_new=pd.DataFrame(dict)\n",
    "df_new.head()"
   ]
  },
  {
   "cell_type": "code",
   "execution_count": 40,
   "id": "7b27381a",
   "metadata": {},
   "outputs": [
    {
     "name": "stdout",
     "output_type": "stream",
     "text": [
      "Mean_Squared_Error : 34.77079728442926\n",
      "Root_Mean_Squared_Error: 5.896676800065377\n"
     ]
    }
   ],
   "source": [
    "#Find mse and rmse\n",
    "mse=mean_squared_error(Y_test,Y_pred)\n",
    "rmse=np.sqrt(mse)\n",
    "print(\"Mean_Squared_Error :\",mse)\n",
    "print(\"Root_Mean_Squared_Error:\",rmse)"
   ]
  },
  {
   "cell_type": "code",
   "execution_count": 41,
   "id": "9f6adfdf",
   "metadata": {},
   "outputs": [
    {
     "name": "stdout",
     "output_type": "stream",
     "text": [
      "r2_score: 0.6206318055567823\n"
     ]
    }
   ],
   "source": [
    "#To check the r2score\n",
    "print(\"r2_score:\",r2_score(Y_test,Y_pred))"
   ]
  },
  {
   "cell_type": "code",
   "execution_count": 42,
   "id": "81696102",
   "metadata": {},
   "outputs": [
    {
     "data": {
      "image/png": "[encoded data removed]",
      "text/plain": [
       "<Figure size 432x288 with 1 Axes>"
      ]
     },
     "metadata": {
      "needs_background": "light"
     },
     "output_type": "display_data"
    }
   ],
   "source": [
    "# Now work on remaining 3 assumption, because 1st assumption was already fulfilled earlier\n",
    "# 1. check Linear relation between input and output \n",
    "residual = Y_test-Y_pred\n",
    "# create scatter plot between Y_pred and residual\n",
    "sb.scatterplot(Y_pred,residual)\n",
    "plt.show()"
   ]
  },
  {
   "cell_type": "code",
   "execution_count": 43,
   "id": "16bf2f51",
   "metadata": {},
   "outputs": [
    {
     "data": {
      "text/html": [
       "<div>\n",
       "<style scoped>\n",
       "    .dataframe tbody tr th:only-of-type {\n",
       "        vertical-align: middle;\n",
       "    }\n",
       "\n",
       "    .dataframe tbody tr th {\n",
       "        vertical-align: top;\n",
       "    }\n",
       "\n",
       "    .dataframe thead th {\n",
       "        text-align: right;\n",
       "    }\n",
       "</style>\n",
       "<table border=\"1\" class=\"dataframe\">\n",
       "  <thead>\n",
       "    <tr style=\"text-align: right;\">\n",
       "      <th></th>\n",
       "      <th>Y_pred</th>\n",
       "      <th>residual</th>\n",
       "    </tr>\n",
       "  </thead>\n",
       "  <tbody>\n",
       "    <tr>\n",
       "      <th>307</th>\n",
       "      <td>27.844264</td>\n",
       "      <td>0.355736</td>\n",
       "    </tr>\n",
       "    <tr>\n",
       "      <th>343</th>\n",
       "      <td>28.425316</td>\n",
       "      <td>-4.525316</td>\n",
       "    </tr>\n",
       "    <tr>\n",
       "      <th>47</th>\n",
       "      <td>14.596553</td>\n",
       "      <td>2.003447</td>\n",
       "    </tr>\n",
       "    <tr>\n",
       "      <th>67</th>\n",
       "      <td>26.919853</td>\n",
       "      <td>-4.919853</td>\n",
       "    </tr>\n",
       "    <tr>\n",
       "      <th>362</th>\n",
       "      <td>23.762224</td>\n",
       "      <td>-2.962224</td>\n",
       "    </tr>\n",
       "  </tbody>\n",
       "</table>\n",
       "</div>"
      ],
      "text/plain": [
       "        Y_pred  residual\n",
       "307  27.844264  0.355736\n",
       "343  28.425316 -4.525316\n",
       "47   14.596553  2.003447\n",
       "67   26.919853 -4.919853\n",
       "362  23.762224 -2.962224"
      ]
     },
     "execution_count": 43,
     "metadata": {},
     "output_type": "execute_result"
    }
   ],
   "source": [
    "dict={'Y_pred':Y_pred,'residual':residual}\n",
    "df_new=pd.DataFrame(dict)\n",
    "df_new.head()"
   ]
  },
  {
   "cell_type": "code",
   "execution_count": 44,
   "id": "90fd4f84",
   "metadata": {},
   "outputs": [
    {
     "data": {
      "image/png": "[encoded data removed]",
      "text/plain": [
       "<Figure size 432x288 with 2 Axes>"
      ]
     },
     "metadata": {
      "needs_background": "light"
     },
     "output_type": "display_data"
    }
   ],
   "source": [
    "#To check the correlation between residual and y_pred\n",
    "sb.heatmap(df_new.corr(),annot=True)\n",
    "plt.show()"
   ]
  },
  {
   "cell_type": "code",
   "execution_count": 45,
   "id": "2c0a6bd6",
   "metadata": {},
   "outputs": [
    {
     "name": "stdout",
     "output_type": "stream",
     "text": [
      "1.1771682138007433\n"
     ]
    },
    {
     "data": {
      "image/png": "[encoded data removed]",
      "text/plain": [
       "<Figure size 432x288 with 1 Axes>"
      ]
     },
     "metadata": {
      "needs_background": "light"
     },
     "output_type": "display_data"
    },
    {
     "data": {
      "image/png": "[encoded data removed]",
      "text/plain": [
       "<Figure size 432x288 with 1 Axes>"
      ]
     },
     "metadata": {
      "needs_background": "light"
     },
     "output_type": "display_data"
    }
   ],
   "source": [
    "# 3rd assumption will also fail\n",
    "# 4th assumption : N.D curve\n",
    "sb.histplot(residual)\n",
    "print (residual.skew())\n",
    "plt.show()\n",
    "# it is positive skewness\n",
    "\n",
    "#distplot()\n",
    "sb.distplot(residual)\n",
    "plt.show()"
   ]
  },
  {
   "cell_type": "code",
   "execution_count": 46,
   "id": "71a066a9",
   "metadata": {},
   "outputs": [],
   "source": [
    "#Create object of polynomial features with 3 degree\n",
    "pf=PolynomialFeatures(3)"
   ]
  },
  {
   "cell_type": "code",
   "execution_count": 47,
   "id": "48ce1f28",
   "metadata": {},
   "outputs": [
    {
     "data": {
      "text/plain": [
       "array([[  1.      ,   4.98    ,  24.8004  , 123.505992],\n",
       "       [  1.      ,   9.14    ,  83.5396  , 763.551944],\n",
       "       [  1.      ,   4.03    ,  16.2409  ,  65.450827],\n",
       "       ...,\n",
       "       [  1.      ,   5.64    ,  31.8096  , 179.406144],\n",
       "       [  1.      ,   6.48    ,  41.9904  , 272.097792],\n",
       "       [  1.      ,   7.88    ,  62.0944  , 489.303872]])"
      ]
     },
     "execution_count": 47,
     "metadata": {},
     "output_type": "execute_result"
    }
   ],
   "source": [
    "X_poly=pf.fit_transform(X)\n",
    "X_poly"
   ]
  },
  {
   "cell_type": "code",
   "execution_count": 48,
   "id": "f350bc9b",
   "metadata": {},
   "outputs": [],
   "source": [
    "# Split the data\n",
    "X_train,X_test,Y_train,Y_test=train_test_split(X_poly,Y,test_size=0.3,random_state=1)"
   ]
  },
  {
   "cell_type": "code",
   "execution_count": 49,
   "id": "fb3d64d6",
   "metadata": {},
   "outputs": [],
   "source": [
    "#Scaling we do only independent variable not on dependent variable\n",
    "from sklearn.preprocessing import StandardScaler\n",
    "ss=StandardScaler()\n",
    "X_train=ss.fit_transform(X_train)   \n",
    "#test data we only perform transform method of StandardScaler class\n",
    "X_test=ss.transform(X_test)  "
   ]
  },
  {
   "cell_type": "code",
   "execution_count": 50,
   "id": "a71fc804",
   "metadata": {},
   "outputs": [],
   "source": [
    "# create object for LinearRegression class to train the machine\n",
    "lr=LinearRegression()"
   ]
  },
  {
   "cell_type": "code",
   "execution_count": 51,
   "id": "8098a54f",
   "metadata": {},
   "outputs": [
    {
     "data": {
      "text/plain": [
       "LinearRegression()"
      ]
     },
     "execution_count": 51,
     "metadata": {},
     "output_type": "execute_result"
    }
   ],
   "source": [
    "#Train the model\n",
    "lr.fit(X_train,Y_train)"
   ]
  },
  {
   "cell_type": "code",
   "execution_count": 52,
   "id": "b059de4b",
   "metadata": {},
   "outputs": [],
   "source": [
    "# Test the model with 30% data\n",
    "Y_pred=lr.predict(X_test)"
   ]
  },
  {
   "cell_type": "code",
   "execution_count": 53,
   "id": "a9fa0e40",
   "metadata": {},
   "outputs": [
    {
     "name": "stdout",
     "output_type": "stream",
     "text": [
      "Slope: [  0.         -27.95668143  36.38370691 -15.52365734]\n"
     ]
    }
   ],
   "source": [
    "#To check the slope\n",
    "m=lr.coef_\n",
    "print(\"Slope:\",m)"
   ]
  },
  {
   "cell_type": "code",
   "execution_count": 54,
   "id": "5dcbd918",
   "metadata": {},
   "outputs": [
    {
     "name": "stdout",
     "output_type": "stream",
     "text": [
      "Intercept: 22.339830508474556\n"
     ]
    }
   ],
   "source": [
    "#To check intercept\n",
    "c=lr.intercept_\n",
    "print(\"Intercept:\",c)"
   ]
  },
  {
   "cell_type": "code",
   "execution_count": 55,
   "id": "6080b424",
   "metadata": {},
   "outputs": [
    {
     "data": {
      "text/html": [
       "<div>\n",
       "<style scoped>\n",
       "    .dataframe tbody tr th:only-of-type {\n",
       "        vertical-align: middle;\n",
       "    }\n",
       "\n",
       "    .dataframe tbody tr th {\n",
       "        vertical-align: top;\n",
       "    }\n",
       "\n",
       "    .dataframe thead th {\n",
       "        text-align: right;\n",
       "    }\n",
       "</style>\n",
       "<table border=\"1\" class=\"dataframe\">\n",
       "  <thead>\n",
       "    <tr style=\"text-align: right;\">\n",
       "      <th></th>\n",
       "      <th>Predict output</th>\n",
       "      <th>Actual Output</th>\n",
       "    </tr>\n",
       "  </thead>\n",
       "  <tbody>\n",
       "    <tr>\n",
       "      <th>307</th>\n",
       "      <td>27.206964</td>\n",
       "      <td>28.2</td>\n",
       "    </tr>\n",
       "    <tr>\n",
       "      <th>343</th>\n",
       "      <td>27.905271</td>\n",
       "      <td>23.9</td>\n",
       "    </tr>\n",
       "    <tr>\n",
       "      <th>47</th>\n",
       "      <td>15.385974</td>\n",
       "      <td>16.6</td>\n",
       "    </tr>\n",
       "    <tr>\n",
       "      <th>67</th>\n",
       "      <td>26.123516</td>\n",
       "      <td>22.0</td>\n",
       "    </tr>\n",
       "    <tr>\n",
       "      <th>362</th>\n",
       "      <td>22.688096</td>\n",
       "      <td>20.8</td>\n",
       "    </tr>\n",
       "  </tbody>\n",
       "</table>\n",
       "</div>"
      ],
      "text/plain": [
       "     Predict output  Actual Output\n",
       "307       27.206964           28.2\n",
       "343       27.905271           23.9\n",
       "47        15.385974           16.6\n",
       "67        26.123516           22.0\n",
       "362       22.688096           20.8"
      ]
     },
     "execution_count": 55,
     "metadata": {},
     "output_type": "execute_result"
    }
   ],
   "source": [
    "dict={'Predict output':Y_pred,'Actual Output':Y_test}\n",
    "df_new=pd.DataFrame(dict)\n",
    "df_new.head()"
   ]
  },
  {
   "cell_type": "code",
   "execution_count": 56,
   "id": "bd761987",
   "metadata": {},
   "outputs": [
    {
     "name": "stdout",
     "output_type": "stream",
     "text": [
      "Mean_Squared_Error : 33.58494035695632\n",
      "Root_Mean_Squared_Error: 5.795251535261978\n"
     ]
    }
   ],
   "source": [
    "#Find mse and rmse\n",
    "mse=mean_squared_error(Y_test,Y_pred)\n",
    "rmse=np.sqrt(mse)\n",
    "print(\"Mean_Squared_Error :\",mse)\n",
    "print(\"Root_Mean_Squared_Error:\",rmse)"
   ]
  },
  {
   "cell_type": "code",
   "execution_count": 57,
   "id": "099ccdda",
   "metadata": {},
   "outputs": [
    {
     "name": "stdout",
     "output_type": "stream",
     "text": [
      "r2_score: 0.6335701456748806\n"
     ]
    }
   ],
   "source": [
    "#To check the r2score\n",
    "print(\"r2_score:\",r2_score(Y_test,Y_pred))"
   ]
  },
  {
   "cell_type": "code",
   "execution_count": 58,
   "id": "25b07ab1",
   "metadata": {},
   "outputs": [
    {
     "data": {
      "image/png": "[encoded data removed]",
      "text/plain": [
       "<Figure size 432x288 with 1 Axes>"
      ]
     },
     "metadata": {
      "needs_background": "light"
     },
     "output_type": "display_data"
    }
   ],
   "source": [
    "# Now work on remaining 3 assumption, because 1st assumption was already fulfilled earlier\n",
    "# 1. check Linear relation between input and output \n",
    "residual = Y_test-Y_pred\n",
    "# create scatter plot between Y_pred and residual\n",
    "sb.scatterplot(Y_pred,residual)\n",
    "plt.show()"
   ]
  },
  {
   "cell_type": "code",
   "execution_count": 59,
   "id": "2ae962b8",
   "metadata": {},
   "outputs": [
    {
     "data": {
      "text/html": [
       "<div>\n",
       "<style scoped>\n",
       "    .dataframe tbody tr th:only-of-type {\n",
       "        vertical-align: middle;\n",
       "    }\n",
       "\n",
       "    .dataframe tbody tr th {\n",
       "        vertical-align: top;\n",
       "    }\n",
       "\n",
       "    .dataframe thead th {\n",
       "        text-align: right;\n",
       "    }\n",
       "</style>\n",
       "<table border=\"1\" class=\"dataframe\">\n",
       "  <thead>\n",
       "    <tr style=\"text-align: right;\">\n",
       "      <th></th>\n",
       "      <th>Y_pred</th>\n",
       "      <th>residual</th>\n",
       "    </tr>\n",
       "  </thead>\n",
       "  <tbody>\n",
       "    <tr>\n",
       "      <th>307</th>\n",
       "      <td>27.206964</td>\n",
       "      <td>0.993036</td>\n",
       "    </tr>\n",
       "    <tr>\n",
       "      <th>343</th>\n",
       "      <td>27.905271</td>\n",
       "      <td>-4.005271</td>\n",
       "    </tr>\n",
       "    <tr>\n",
       "      <th>47</th>\n",
       "      <td>15.385974</td>\n",
       "      <td>1.214026</td>\n",
       "    </tr>\n",
       "    <tr>\n",
       "      <th>67</th>\n",
       "      <td>26.123516</td>\n",
       "      <td>-4.123516</td>\n",
       "    </tr>\n",
       "    <tr>\n",
       "      <th>362</th>\n",
       "      <td>22.688096</td>\n",
       "      <td>-1.888096</td>\n",
       "    </tr>\n",
       "  </tbody>\n",
       "</table>\n",
       "</div>"
      ],
      "text/plain": [
       "        Y_pred  residual\n",
       "307  27.206964  0.993036\n",
       "343  27.905271 -4.005271\n",
       "47   15.385974  1.214026\n",
       "67   26.123516 -4.123516\n",
       "362  22.688096 -1.888096"
      ]
     },
     "execution_count": 59,
     "metadata": {},
     "output_type": "execute_result"
    }
   ],
   "source": [
    "dict={'Y_pred':Y_pred,'residual':residual}\n",
    "df_new=pd.DataFrame(dict)\n",
    "df_new.head()"
   ]
  },
  {
   "cell_type": "code",
   "execution_count": 60,
   "id": "cb5367ab",
   "metadata": {},
   "outputs": [
    {
     "data": {
      "image/png": "[encoded data removed]",
      "text/plain": [
       "<Figure size 432x288 with 2 Axes>"
      ]
     },
     "metadata": {
      "needs_background": "light"
     },
     "output_type": "display_data"
    }
   ],
   "source": [
    "#To check the correlation between residual and y_pred\n",
    "sb.heatmap(df_new.corr(),annot=True)\n",
    "plt.show()"
   ]
  },
  {
   "cell_type": "code",
   "execution_count": 61,
   "id": "402e7dea",
   "metadata": {},
   "outputs": [
    {
     "name": "stdout",
     "output_type": "stream",
     "text": [
      "1.1331518853405633\n"
     ]
    },
    {
     "data": {
      "image/png": "[encoded data removed]",
      "text/plain": [
       "<Figure size 432x288 with 1 Axes>"
      ]
     },
     "metadata": {
      "needs_background": "light"
     },
     "output_type": "display_data"
    },
    {
     "data": {
      "image/png": "[encoded data removed]",
      "text/plain": [
       "<Figure size 432x288 with 1 Axes>"
      ]
     },
     "metadata": {
      "needs_background": "light"
     },
     "output_type": "display_data"
    }
   ],
   "source": [
    "# 3rd assumption will also fail\n",
    "# 4th assumption : N.D curve\n",
    "sb.histplot(residual)\n",
    "print (residual.skew())\n",
    "plt.show()\n",
    "# it is positive skewness\n",
    "\n",
    "#distplot()\n",
    "sb.distplot(residual)\n",
    "plt.show()"
   ]
  },
  {
   "cell_type": "code",
   "execution_count": 62,
   "id": "a24b8463",
   "metadata": {},
   "outputs": [],
   "source": [
    "#Create object of polynomial features with 4 degree\n",
    "pf=PolynomialFeatures(4)"
   ]
  },
  {
   "cell_type": "code",
   "execution_count": 63,
   "id": "4bcbcb1a",
   "metadata": {},
   "outputs": [
    {
     "data": {
      "text/plain": [
       "array([[1.00000000e+00, 4.98000000e+00, 2.48004000e+01, 1.23505992e+02,\n",
       "        6.15059840e+02],\n",
       "       [1.00000000e+00, 9.14000000e+00, 8.35396000e+01, 7.63551944e+02,\n",
       "        6.97886477e+03],\n",
       "       [1.00000000e+00, 4.03000000e+00, 1.62409000e+01, 6.54508270e+01,\n",
       "        2.63766833e+02],\n",
       "       ...,\n",
       "       [1.00000000e+00, 5.64000000e+00, 3.18096000e+01, 1.79406144e+02,\n",
       "        1.01185065e+03],\n",
       "       [1.00000000e+00, 6.48000000e+00, 4.19904000e+01, 2.72097792e+02,\n",
       "        1.76319369e+03],\n",
       "       [1.00000000e+00, 7.88000000e+00, 6.20944000e+01, 4.89303872e+02,\n",
       "        3.85571451e+03]])"
      ]
     },
     "execution_count": 63,
     "metadata": {},
     "output_type": "execute_result"
    }
   ],
   "source": [
    "X_poly=pf.fit_transform(X)\n",
    "X_poly"
   ]
  },
  {
   "cell_type": "code",
   "execution_count": 64,
   "id": "41c51cf1",
   "metadata": {},
   "outputs": [],
   "source": [
    "# Split the data\n",
    "X_train,X_test,Y_train,Y_test=train_test_split(X_poly,Y,test_size=0.3,random_state=1)"
   ]
  },
  {
   "cell_type": "code",
   "execution_count": 65,
   "id": "a8065276",
   "metadata": {},
   "outputs": [],
   "source": [
    "#Scaling we do only independent variable not on dependent variable\n",
    "from sklearn.preprocessing import StandardScaler\n",
    "ss=StandardScaler()\n",
    "X_train=ss.fit_transform(X_train)   \n",
    "#test data we only perform transform method of StandardScaler class\n",
    "X_test=ss.transform(X_test)  "
   ]
  },
  {
   "cell_type": "code",
   "execution_count": 66,
   "id": "e753dff2",
   "metadata": {},
   "outputs": [],
   "source": [
    "# create object for LinearRegression class to train the machine\n",
    "lr=LinearRegression()"
   ]
  },
  {
   "cell_type": "code",
   "execution_count": 67,
   "id": "743ff7ca",
   "metadata": {},
   "outputs": [
    {
     "data": {
      "text/plain": [
       "LinearRegression()"
      ]
     },
     "execution_count": 67,
     "metadata": {},
     "output_type": "execute_result"
    }
   ],
   "source": [
    "#Train the model\n",
    "lr.fit(X_train,Y_train)"
   ]
  },
  {
   "cell_type": "code",
   "execution_count": 68,
   "id": "35b45319",
   "metadata": {},
   "outputs": [],
   "source": [
    "# Test the model with 30% data\n",
    "Y_pred=lr.predict(X_test)"
   ]
  },
  {
   "cell_type": "code",
   "execution_count": 69,
   "id": "4af8faaa",
   "metadata": {},
   "outputs": [
    {
     "name": "stdout",
     "output_type": "stream",
     "text": [
      "Slope: [   0.          -54.62141199  133.67506128 -141.24576826   55.10147792]\n"
     ]
    }
   ],
   "source": [
    "#To check the slope\n",
    "m=lr.coef_\n",
    "print(\"Slope:\",m)"
   ]
  },
  {
   "cell_type": "code",
   "execution_count": 70,
   "id": "efd48547",
   "metadata": {},
   "outputs": [
    {
     "name": "stdout",
     "output_type": "stream",
     "text": [
      "Intercept: 22.339830508474588\n"
     ]
    }
   ],
   "source": [
    "#To check intercept\n",
    "c=lr.intercept_\n",
    "print(\"Intercept:\",c)"
   ]
  },
  {
   "cell_type": "code",
   "execution_count": 71,
   "id": "2d969460",
   "metadata": {},
   "outputs": [
    {
     "data": {
      "text/html": [
       "<div>\n",
       "<style scoped>\n",
       "    .dataframe tbody tr th:only-of-type {\n",
       "        vertical-align: middle;\n",
       "    }\n",
       "\n",
       "    .dataframe tbody tr th {\n",
       "        vertical-align: top;\n",
       "    }\n",
       "\n",
       "    .dataframe thead th {\n",
       "        text-align: right;\n",
       "    }\n",
       "</style>\n",
       "<table border=\"1\" class=\"dataframe\">\n",
       "  <thead>\n",
       "    <tr style=\"text-align: right;\">\n",
       "      <th></th>\n",
       "      <th>Predict output</th>\n",
       "      <th>Actual Output</th>\n",
       "    </tr>\n",
       "  </thead>\n",
       "  <tbody>\n",
       "    <tr>\n",
       "      <th>307</th>\n",
       "      <td>26.045504</td>\n",
       "      <td>28.2</td>\n",
       "    </tr>\n",
       "    <tr>\n",
       "      <th>343</th>\n",
       "      <td>26.784846</td>\n",
       "      <td>23.9</td>\n",
       "    </tr>\n",
       "    <tr>\n",
       "      <th>47</th>\n",
       "      <td>16.606139</td>\n",
       "      <td>16.6</td>\n",
       "    </tr>\n",
       "    <tr>\n",
       "      <th>67</th>\n",
       "      <td>24.949835</td>\n",
       "      <td>22.0</td>\n",
       "    </tr>\n",
       "    <tr>\n",
       "      <th>362</th>\n",
       "      <td>21.899008</td>\n",
       "      <td>20.8</td>\n",
       "    </tr>\n",
       "  </tbody>\n",
       "</table>\n",
       "</div>"
      ],
      "text/plain": [
       "     Predict output  Actual Output\n",
       "307       26.045504           28.2\n",
       "343       26.784846           23.9\n",
       "47        16.606139           16.6\n",
       "67        24.949835           22.0\n",
       "362       21.899008           20.8"
      ]
     },
     "execution_count": 71,
     "metadata": {},
     "output_type": "execute_result"
    }
   ],
   "source": [
    "dict={'Predict output':Y_pred,'Actual Output':Y_test}\n",
    "df_new=pd.DataFrame(dict)\n",
    "df_new.head()"
   ]
  },
  {
   "cell_type": "code",
   "execution_count": 72,
   "id": "c22e5a27",
   "metadata": {},
   "outputs": [
    {
     "name": "stdout",
     "output_type": "stream",
     "text": [
      "Mean_Squared_Error : 33.08908909693794\n",
      "Root_Mean_Squared_Error: 5.752311630721856\n"
     ]
    }
   ],
   "source": [
    "#Find mse and rmse\n",
    "mse=mean_squared_error(Y_test,Y_pred)\n",
    "rmse=np.sqrt(mse)\n",
    "print(\"Mean_Squared_Error :\",mse)\n",
    "print(\"Root_Mean_Squared_Error:\",rmse)"
   ]
  },
  {
   "cell_type": "code",
   "execution_count": 73,
   "id": "c3b04b94",
   "metadata": {},
   "outputs": [
    {
     "name": "stdout",
     "output_type": "stream",
     "text": [
      "r2_score: 0.6389801509642847\n"
     ]
    }
   ],
   "source": [
    "#To check the r2score\n",
    "print(\"r2_score:\",r2_score(Y_test,Y_pred))"
   ]
  },
  {
   "cell_type": "code",
   "execution_count": 74,
   "id": "046243ea",
   "metadata": {},
   "outputs": [
    {
     "data": {
      "image/png": "[encoded data removed]",
      "text/plain": [
       "<Figure size 432x288 with 1 Axes>"
      ]
     },
     "metadata": {
      "needs_background": "light"
     },
     "output_type": "display_data"
    }
   ],
   "source": [
    "# Now work on remaining 3 assumption, because 1st assumption was already fulfilled earlier\n",
    "# 1. check Linear relation between input and output \n",
    "residual = Y_test-Y_pred\n",
    "# create scatter plot between Y_pred and residual\n",
    "sb.scatterplot(Y_pred,residual)\n",
    "plt.show()"
   ]
  },
  {
   "cell_type": "code",
   "execution_count": 75,
   "id": "303e479b",
   "metadata": {},
   "outputs": [
    {
     "data": {
      "text/html": [
       "<div>\n",
       "<style scoped>\n",
       "    .dataframe tbody tr th:only-of-type {\n",
       "        vertical-align: middle;\n",
       "    }\n",
       "\n",
       "    .dataframe tbody tr th {\n",
       "        vertical-align: top;\n",
       "    }\n",
       "\n",
       "    .dataframe thead th {\n",
       "        text-align: right;\n",
       "    }\n",
       "</style>\n",
       "<table border=\"1\" class=\"dataframe\">\n",
       "  <thead>\n",
       "    <tr style=\"text-align: right;\">\n",
       "      <th></th>\n",
       "      <th>Y_pred</th>\n",
       "      <th>residual</th>\n",
       "    </tr>\n",
       "  </thead>\n",
       "  <tbody>\n",
       "    <tr>\n",
       "      <th>307</th>\n",
       "      <td>26.045504</td>\n",
       "      <td>2.154496</td>\n",
       "    </tr>\n",
       "    <tr>\n",
       "      <th>343</th>\n",
       "      <td>26.784846</td>\n",
       "      <td>-2.884846</td>\n",
       "    </tr>\n",
       "    <tr>\n",
       "      <th>47</th>\n",
       "      <td>16.606139</td>\n",
       "      <td>-0.006139</td>\n",
       "    </tr>\n",
       "    <tr>\n",
       "      <th>67</th>\n",
       "      <td>24.949835</td>\n",
       "      <td>-2.949835</td>\n",
       "    </tr>\n",
       "    <tr>\n",
       "      <th>362</th>\n",
       "      <td>21.899008</td>\n",
       "      <td>-1.099008</td>\n",
       "    </tr>\n",
       "  </tbody>\n",
       "</table>\n",
       "</div>"
      ],
      "text/plain": [
       "        Y_pred  residual\n",
       "307  26.045504  2.154496\n",
       "343  26.784846 -2.884846\n",
       "47   16.606139 -0.006139\n",
       "67   24.949835 -2.949835\n",
       "362  21.899008 -1.099008"
      ]
     },
     "execution_count": 75,
     "metadata": {},
     "output_type": "execute_result"
    }
   ],
   "source": [
    "dict={'Y_pred':Y_pred,'residual':residual}\n",
    "df_new=pd.DataFrame(dict)\n",
    "df_new.head()"
   ]
  },
  {
   "cell_type": "code",
   "execution_count": 76,
   "id": "7e537bbf",
   "metadata": {},
   "outputs": [
    {
     "data": {
      "image/png": "[encoded data removed]",
      "text/plain": [
       "<Figure size 432x288 with 2 Axes>"
      ]
     },
     "metadata": {
      "needs_background": "light"
     },
     "output_type": "display_data"
    }
   ],
   "source": [
    "#To check the correlation between residual and y_pred\n",
    "sb.heatmap(df_new.corr(),annot=True)\n",
    "plt.show()"
   ]
  },
  {
   "cell_type": "code",
   "execution_count": 77,
   "id": "b695cea6",
   "metadata": {},
   "outputs": [
    {
     "name": "stdout",
     "output_type": "stream",
     "text": [
      "1.2017153603704793\n"
     ]
    },
    {
     "data": {
      "image/png": "[encoded data removed]",
      "text/plain": [
       "<Figure size 432x288 with 1 Axes>"
      ]
     },
     "metadata": {
      "needs_background": "light"
     },
     "output_type": "display_data"
    },
    {
     "data": {
      "image/png": "[encoded data removed]",
      "text/plain": [
       "<Figure size 432x288 with 1 Axes>"
      ]
     },
     "metadata": {
      "needs_background": "light"
     },
     "output_type": "display_data"
    }
   ],
   "source": [
    "# 3rd assumption will also fail\n",
    "# 4th assumption : N.D curve\n",
    "sb.histplot(residual)\n",
    "print (residual.skew())\n",
    "plt.show()\n",
    "# it is positive skewness\n",
    "\n",
    "#distplot()\n",
    "sb.distplot(residual)\n",
    "plt.show()"
   ]
  },
  {
   "cell_type": "code",
   "execution_count": 78,
   "id": "2040c20a",
   "metadata": {},
   "outputs": [],
   "source": [
    "#Create object of polynomial features with 5 degree\n",
    "pf=PolynomialFeatures(5)"
   ]
  },
  {
   "cell_type": "code",
   "execution_count": 79,
   "id": "c213f484",
   "metadata": {},
   "outputs": [
    {
     "data": {
      "text/plain": [
       "array([[1.00000000e+00, 4.98000000e+00, 2.48004000e+01, 1.23505992e+02,\n",
       "        6.15059840e+02, 3.06299800e+03],\n",
       "       [1.00000000e+00, 9.14000000e+00, 8.35396000e+01, 7.63551944e+02,\n",
       "        6.97886477e+03, 6.37868240e+04],\n",
       "       [1.00000000e+00, 4.03000000e+00, 1.62409000e+01, 6.54508270e+01,\n",
       "        2.63766833e+02, 1.06298034e+03],\n",
       "       ...,\n",
       "       [1.00000000e+00, 5.64000000e+00, 3.18096000e+01, 1.79406144e+02,\n",
       "        1.01185065e+03, 5.70683768e+03],\n",
       "       [1.00000000e+00, 6.48000000e+00, 4.19904000e+01, 2.72097792e+02,\n",
       "        1.76319369e+03, 1.14254951e+04],\n",
       "       [1.00000000e+00, 7.88000000e+00, 6.20944000e+01, 4.89303872e+02,\n",
       "        3.85571451e+03, 3.03830303e+04]])"
      ]
     },
     "execution_count": 79,
     "metadata": {},
     "output_type": "execute_result"
    }
   ],
   "source": [
    "X_poly=pf.fit_transform(X)\n",
    "X_poly"
   ]
  },
  {
   "cell_type": "code",
   "execution_count": 80,
   "id": "326a8178",
   "metadata": {},
   "outputs": [],
   "source": [
    "# Split the data\n",
    "X_train,X_test,Y_train,Y_test=train_test_split(X_poly,Y,test_size=0.3,random_state=1)"
   ]
  },
  {
   "cell_type": "code",
   "execution_count": 81,
   "id": "284d8900",
   "metadata": {},
   "outputs": [],
   "source": [
    "#Scaling we do only independent variable not on dependent variable\n",
    "from sklearn.preprocessing import StandardScaler\n",
    "ss=StandardScaler()\n",
    "X_train=ss.fit_transform(X_train)   \n",
    "#test data we only perform transform method of StandardScaler class\n",
    "X_test=ss.transform(X_test)  "
   ]
  },
  {
   "cell_type": "code",
   "execution_count": 82,
   "id": "e7150e30",
   "metadata": {},
   "outputs": [],
   "source": [
    "# create object for LinearRegression class to train the machine\n",
    "lr=LinearRegression()"
   ]
  },
  {
   "cell_type": "code",
   "execution_count": 83,
   "id": "3abe9c81",
   "metadata": {},
   "outputs": [
    {
     "data": {
      "text/plain": [
       "LinearRegression()"
      ]
     },
     "execution_count": 83,
     "metadata": {},
     "output_type": "execute_result"
    }
   ],
   "source": [
    "#Train the model\n",
    "lr.fit(X_train,Y_train)"
   ]
  },
  {
   "cell_type": "code",
   "execution_count": 84,
   "id": "30a5a05b",
   "metadata": {},
   "outputs": [],
   "source": [
    "# Test the model with 30% data\n",
    "Y_pred=lr.predict(X_test)"
   ]
  },
  {
   "cell_type": "code",
   "execution_count": 85,
   "id": "16afb419",
   "metadata": {},
   "outputs": [
    {
     "name": "stdout",
     "output_type": "stream",
     "text": [
      "Slope: [   0.          -96.32688202  350.18401158 -594.80812672  486.85593811\n",
      " -153.53162874]\n"
     ]
    }
   ],
   "source": [
    "#To check the slope\n",
    "m=lr.coef_\n",
    "print(\"Slope:\",m)"
   ]
  },
  {
   "cell_type": "code",
   "execution_count": 86,
   "id": "056adce7",
   "metadata": {},
   "outputs": [
    {
     "name": "stdout",
     "output_type": "stream",
     "text": [
      "Intercept: 22.339830508474755\n"
     ]
    }
   ],
   "source": [
    "#To check intercept\n",
    "c=lr.intercept_\n",
    "print(\"Intercept:\",c)"
   ]
  },
  {
   "cell_type": "code",
   "execution_count": 87,
   "id": "c8907093",
   "metadata": {},
   "outputs": [
    {
     "data": {
      "text/html": [
       "<div>\n",
       "<style scoped>\n",
       "    .dataframe tbody tr th:only-of-type {\n",
       "        vertical-align: middle;\n",
       "    }\n",
       "\n",
       "    .dataframe tbody tr th {\n",
       "        vertical-align: top;\n",
       "    }\n",
       "\n",
       "    .dataframe thead th {\n",
       "        text-align: right;\n",
       "    }\n",
       "</style>\n",
       "<table border=\"1\" class=\"dataframe\">\n",
       "  <thead>\n",
       "    <tr style=\"text-align: right;\">\n",
       "      <th></th>\n",
       "      <th>Predict output</th>\n",
       "      <th>Actual Output</th>\n",
       "    </tr>\n",
       "  </thead>\n",
       "  <tbody>\n",
       "    <tr>\n",
       "      <th>307</th>\n",
       "      <td>25.326386</td>\n",
       "      <td>28.2</td>\n",
       "    </tr>\n",
       "    <tr>\n",
       "      <th>343</th>\n",
       "      <td>25.985574</td>\n",
       "      <td>23.9</td>\n",
       "    </tr>\n",
       "    <tr>\n",
       "      <th>47</th>\n",
       "      <td>16.132932</td>\n",
       "      <td>16.6</td>\n",
       "    </tr>\n",
       "    <tr>\n",
       "      <th>67</th>\n",
       "      <td>24.396059</td>\n",
       "      <td>22.0</td>\n",
       "    </tr>\n",
       "    <tr>\n",
       "      <th>362</th>\n",
       "      <td>22.078983</td>\n",
       "      <td>20.8</td>\n",
       "    </tr>\n",
       "  </tbody>\n",
       "</table>\n",
       "</div>"
      ],
      "text/plain": [
       "     Predict output  Actual Output\n",
       "307       25.326386           28.2\n",
       "343       25.985574           23.9\n",
       "47        16.132932           16.6\n",
       "67        24.396059           22.0\n",
       "362       22.078983           20.8"
      ]
     },
     "execution_count": 87,
     "metadata": {},
     "output_type": "execute_result"
    }
   ],
   "source": [
    "dict={'Predict output':Y_pred,'Actual Output':Y_test}\n",
    "df_new=pd.DataFrame(dict)\n",
    "df_new.head()"
   ]
  },
  {
   "cell_type": "code",
   "execution_count": 88,
   "id": "cef2e9bb",
   "metadata": {},
   "outputs": [
    {
     "name": "stdout",
     "output_type": "stream",
     "text": [
      "Mean_Squared_Error : 32.84454482673264\n",
      "Root_Mean_Squared_Error: 5.731016037905725\n"
     ]
    }
   ],
   "source": [
    "#Find mse and rmse\n",
    "mse=mean_squared_error(Y_test,Y_pred)\n",
    "rmse=np.sqrt(mse)\n",
    "print(\"Mean_Squared_Error :\",mse)\n",
    "print(\"Root_Mean_Squared_Error:\",rmse)"
   ]
  },
  {
   "cell_type": "code",
   "execution_count": 89,
   "id": "b359e516",
   "metadata": {},
   "outputs": [
    {
     "name": "stdout",
     "output_type": "stream",
     "text": [
      "r2_score: 0.6416482611456629\n"
     ]
    }
   ],
   "source": [
    "#To check the r2score\n",
    "print(\"r2_score:\",r2_score(Y_test,Y_pred))"
   ]
  },
  {
   "cell_type": "code",
   "execution_count": 90,
   "id": "1abb9050",
   "metadata": {},
   "outputs": [
    {
     "data": {
      "image/png": "[encoded data removed]",
      "text/plain": [
       "<Figure size 432x288 with 1 Axes>"
      ]
     },
     "metadata": {
      "needs_background": "light"
     },
     "output_type": "display_data"
    }
   ],
   "source": [
    "# Now work on remaining 3 assumption, because 1st assumption was already fulfilled earlier\n",
    "# 1. check Linear relation between input and output \n",
    "residual = Y_test-Y_pred\n",
    "# create scatter plot between Y_pred and residual\n",
    "sb.scatterplot(Y_pred,residual)\n",
    "plt.show()"
   ]
  },
  {
   "cell_type": "code",
   "execution_count": 91,
   "id": "dd151b6f",
   "metadata": {},
   "outputs": [
    {
     "data": {
      "text/html": [
       "<div>\n",
       "<style scoped>\n",
       "    .dataframe tbody tr th:only-of-type {\n",
       "        vertical-align: middle;\n",
       "    }\n",
       "\n",
       "    .dataframe tbody tr th {\n",
       "        vertical-align: top;\n",
       "    }\n",
       "\n",
       "    .dataframe thead th {\n",
       "        text-align: right;\n",
       "    }\n",
       "</style>\n",
       "<table border=\"1\" class=\"dataframe\">\n",
       "  <thead>\n",
       "    <tr style=\"text-align: right;\">\n",
       "      <th></th>\n",
       "      <th>Y_pred</th>\n",
       "      <th>residual</th>\n",
       "    </tr>\n",
       "  </thead>\n",
       "  <tbody>\n",
       "    <tr>\n",
       "      <th>307</th>\n",
       "      <td>25.326386</td>\n",
       "      <td>2.873614</td>\n",
       "    </tr>\n",
       "    <tr>\n",
       "      <th>343</th>\n",
       "      <td>25.985574</td>\n",
       "      <td>-2.085574</td>\n",
       "    </tr>\n",
       "    <tr>\n",
       "      <th>47</th>\n",
       "      <td>16.132932</td>\n",
       "      <td>0.467068</td>\n",
       "    </tr>\n",
       "    <tr>\n",
       "      <th>67</th>\n",
       "      <td>24.396059</td>\n",
       "      <td>-2.396059</td>\n",
       "    </tr>\n",
       "    <tr>\n",
       "      <th>362</th>\n",
       "      <td>22.078983</td>\n",
       "      <td>-1.278983</td>\n",
       "    </tr>\n",
       "  </tbody>\n",
       "</table>\n",
       "</div>"
      ],
      "text/plain": [
       "        Y_pred  residual\n",
       "307  25.326386  2.873614\n",
       "343  25.985574 -2.085574\n",
       "47   16.132932  0.467068\n",
       "67   24.396059 -2.396059\n",
       "362  22.078983 -1.278983"
      ]
     },
     "execution_count": 91,
     "metadata": {},
     "output_type": "execute_result"
    }
   ],
   "source": [
    "dict={'Y_pred':Y_pred,'residual':residual}\n",
    "df_new=pd.DataFrame(dict)\n",
    "df_new.head()"
   ]
  },
  {
   "cell_type": "code",
   "execution_count": 92,
   "id": "06b7e4fc",
   "metadata": {},
   "outputs": [
    {
     "data": {
      "image/png": "[encoded data removed]",
      "text/plain": [
       "<Figure size 432x288 with 2 Axes>"
      ]
     },
     "metadata": {
      "needs_background": "light"
     },
     "output_type": "display_data"
    }
   ],
   "source": [
    "#To check the correlation between residual and y_pred\n",
    "sb.heatmap(df_new.corr(),annot=True)\n",
    "plt.show()"
   ]
  },
  {
   "cell_type": "code",
   "execution_count": 93,
   "id": "18b7129a",
   "metadata": {},
   "outputs": [
    {
     "name": "stdout",
     "output_type": "stream",
     "text": [
      "1.2279772815311467\n"
     ]
    },
    {
     "data": {
      "image/png": "[encoded data removed]",
      "text/plain": [
       "<Figure size 432x288 with 1 Axes>"
      ]
     },
     "metadata": {
      "needs_background": "light"
     },
     "output_type": "display_data"
    },
    {
     "data": {
      "image/png": "[encoded data removed]",
      "text/plain": [
       "<Figure size 432x288 with 1 Axes>"
      ]
     },
     "metadata": {
      "needs_background": "light"
     },
     "output_type": "display_data"
    }
   ],
   "source": [
    "# 3rd assumption will also fail\n",
    "# 4th assumption : N.D curve\n",
    "sb.histplot(residual)\n",
    "print (residual.skew())\n",
    "plt.show()\n",
    "# it is positive skewness\n",
    "\n",
    "#distplot()\n",
    "sb.distplot(residual)\n",
    "plt.show()"
   ]
  },
  {
   "cell_type": "code",
   "execution_count": 94,
   "id": "629ac03d",
   "metadata": {},
   "outputs": [],
   "source": [
    "#Create object of polynomial features with 6 degree\n",
    "pf=PolynomialFeatures(6)"
   ]
  },
  {
   "cell_type": "code",
   "execution_count": 95,
   "id": "cab6cd20",
   "metadata": {},
   "outputs": [
    {
     "data": {
      "text/plain": [
       "array([[1.00000000e+00, 4.98000000e+00, 2.48004000e+01, ...,\n",
       "        6.15059840e+02, 3.06299800e+03, 1.52537301e+04],\n",
       "       [1.00000000e+00, 9.14000000e+00, 8.35396000e+01, ...,\n",
       "        6.97886477e+03, 6.37868240e+04, 5.83011571e+05],\n",
       "       [1.00000000e+00, 4.03000000e+00, 1.62409000e+01, ...,\n",
       "        2.63766833e+02, 1.06298034e+03, 4.28381075e+03],\n",
       "       ...,\n",
       "       [1.00000000e+00, 5.64000000e+00, 3.18096000e+01, ...,\n",
       "        1.01185065e+03, 5.70683768e+03, 3.21865645e+04],\n",
       "       [1.00000000e+00, 6.48000000e+00, 4.19904000e+01, ...,\n",
       "        1.76319369e+03, 1.14254951e+04, 7.40372084e+04],\n",
       "       [1.00000000e+00, 7.88000000e+00, 6.20944000e+01, ...,\n",
       "        3.85571451e+03, 3.03830303e+04, 2.39418279e+05]])"
      ]
     },
     "execution_count": 95,
     "metadata": {},
     "output_type": "execute_result"
    }
   ],
   "source": [
    "X_poly=pf.fit_transform(X)\n",
    "X_poly"
   ]
  },
  {
   "cell_type": "code",
   "execution_count": 96,
   "id": "8c395184",
   "metadata": {},
   "outputs": [],
   "source": [
    "# Split the data\n",
    "X_train,X_test,Y_train,Y_test=train_test_split(X_poly,Y,test_size=0.3,random_state=1)"
   ]
  },
  {
   "cell_type": "code",
   "execution_count": 97,
   "id": "67a55fea",
   "metadata": {},
   "outputs": [],
   "source": [
    "#Scaling we do only independent variable not on dependent variable\n",
    "from sklearn.preprocessing import StandardScaler\n",
    "ss=StandardScaler()\n",
    "X_train=ss.fit_transform(X_train)   \n",
    "#test data we only perform transform method of StandardScaler class\n",
    "X_test=ss.transform(X_test)  "
   ]
  },
  {
   "cell_type": "code",
   "execution_count": 98,
   "id": "647ed215",
   "metadata": {},
   "outputs": [],
   "source": [
    "# create object for LinearRegression class to train the machine\n",
    "lr=LinearRegression()"
   ]
  },
  {
   "cell_type": "code",
   "execution_count": 99,
   "id": "2d7ddbf5",
   "metadata": {},
   "outputs": [
    {
     "data": {
      "text/plain": [
       "LinearRegression()"
      ]
     },
     "execution_count": 99,
     "metadata": {},
     "output_type": "execute_result"
    }
   ],
   "source": [
    "#Train the model\n",
    "lr.fit(X_train,Y_train)"
   ]
  },
  {
   "cell_type": "code",
   "execution_count": 100,
   "id": "8ba43bfc",
   "metadata": {},
   "outputs": [],
   "source": [
    "# Test the model with 30% data\n",
    "Y_pred=lr.predict(X_test)"
   ]
  },
  {
   "cell_type": "code",
   "execution_count": 101,
   "id": "dbbce430",
   "metadata": {},
   "outputs": [
    {
     "name": "stdout",
     "output_type": "stream",
     "text": [
      "Slope: [    0.          -130.13853629   579.45494786 -1271.20310878\n",
      "  1513.49648047  -932.28728313   233.07036801]\n"
     ]
    }
   ],
   "source": [
    "#To check the slope\n",
    "m=lr.coef_\n",
    "print(\"Slope:\",m)"
   ]
  },
  {
   "cell_type": "code",
   "execution_count": 102,
   "id": "6b190b2d",
   "metadata": {},
   "outputs": [
    {
     "name": "stdout",
     "output_type": "stream",
     "text": [
      "Intercept: 22.339830508475018\n"
     ]
    }
   ],
   "source": [
    "#To check intercept\n",
    "c=lr.intercept_\n",
    "print(\"Intercept:\",c)"
   ]
  },
  {
   "cell_type": "code",
   "execution_count": 103,
   "id": "80d2f021",
   "metadata": {},
   "outputs": [
    {
     "data": {
      "text/html": [
       "<div>\n",
       "<style scoped>\n",
       "    .dataframe tbody tr th:only-of-type {\n",
       "        vertical-align: middle;\n",
       "    }\n",
       "\n",
       "    .dataframe tbody tr th {\n",
       "        vertical-align: top;\n",
       "    }\n",
       "\n",
       "    .dataframe thead th {\n",
       "        text-align: right;\n",
       "    }\n",
       "</style>\n",
       "<table border=\"1\" class=\"dataframe\">\n",
       "  <thead>\n",
       "    <tr style=\"text-align: right;\">\n",
       "      <th></th>\n",
       "      <th>Predict output</th>\n",
       "      <th>Actual Output</th>\n",
       "    </tr>\n",
       "  </thead>\n",
       "  <tbody>\n",
       "    <tr>\n",
       "      <th>307</th>\n",
       "      <td>25.255535</td>\n",
       "      <td>28.2</td>\n",
       "    </tr>\n",
       "    <tr>\n",
       "      <th>343</th>\n",
       "      <td>25.844442</td>\n",
       "      <td>23.9</td>\n",
       "    </tr>\n",
       "    <tr>\n",
       "      <th>47</th>\n",
       "      <td>15.737684</td>\n",
       "      <td>16.6</td>\n",
       "    </tr>\n",
       "    <tr>\n",
       "      <th>67</th>\n",
       "      <td>24.437415</td>\n",
       "      <td>22.0</td>\n",
       "    </tr>\n",
       "    <tr>\n",
       "      <th>362</th>\n",
       "      <td>22.392898</td>\n",
       "      <td>20.8</td>\n",
       "    </tr>\n",
       "  </tbody>\n",
       "</table>\n",
       "</div>"
      ],
      "text/plain": [
       "     Predict output  Actual Output\n",
       "307       25.255535           28.2\n",
       "343       25.844442           23.9\n",
       "47        15.737684           16.6\n",
       "67        24.437415           22.0\n",
       "362       22.392898           20.8"
      ]
     },
     "execution_count": 103,
     "metadata": {},
     "output_type": "execute_result"
    }
   ],
   "source": [
    "dict={'Predict output':Y_pred,'Actual Output':Y_test}\n",
    "df_new=pd.DataFrame(dict)\n",
    "df_new.head()"
   ]
  },
  {
   "cell_type": "code",
   "execution_count": 104,
   "id": "a8db82e5",
   "metadata": {},
   "outputs": [
    {
     "name": "stdout",
     "output_type": "stream",
     "text": [
      "Mean_Squared_Error : 33.043265826336565\n",
      "Root_Mean_Squared_Error: 5.74832721983853\n"
     ]
    }
   ],
   "source": [
    "#Find mse and rmse\n",
    "mse=mean_squared_error(Y_test,Y_pred)\n",
    "rmse=np.sqrt(mse)\n",
    "print(\"Mean_Squared_Error :\",mse)\n",
    "print(\"Root_Mean_Squared_Error:\",rmse)"
   ]
  },
  {
   "cell_type": "code",
   "execution_count": 105,
   "id": "1d9ece1f",
   "metadata": {},
   "outputs": [
    {
     "name": "stdout",
     "output_type": "stream",
     "text": [
      "r2_score: 0.6394801076172578\n"
     ]
    }
   ],
   "source": [
    "#To check the r2score\n",
    "print(\"r2_score:\",r2_score(Y_test,Y_pred))"
   ]
  },
  {
   "cell_type": "code",
   "execution_count": 106,
   "id": "861e4939",
   "metadata": {},
   "outputs": [
    {
     "data": {
      "image/png": "[encoded data removed]",
      "text/plain": [
       "<Figure size 432x288 with 1 Axes>"
      ]
     },
     "metadata": {
      "needs_background": "light"
     },
     "output_type": "display_data"
    }
   ],
   "source": [
    "# Now work on remaining 3 assumption, because 1st assumption was already fulfilled earlier\n",
    "# 1. check Linear relation between input and output \n",
    "residual = Y_test-Y_pred\n",
    "# create scatter plot between Y_pred and residual\n",
    "sb.scatterplot(Y_pred,residual)\n",
    "plt.show()"
   ]
  },
  {
   "cell_type": "code",
   "execution_count": 107,
   "id": "7ee5fd83",
   "metadata": {},
   "outputs": [
    {
     "data": {
      "text/html": [
       "<div>\n",
       "<style scoped>\n",
       "    .dataframe tbody tr th:only-of-type {\n",
       "        vertical-align: middle;\n",
       "    }\n",
       "\n",
       "    .dataframe tbody tr th {\n",
       "        vertical-align: top;\n",
       "    }\n",
       "\n",
       "    .dataframe thead th {\n",
       "        text-align: right;\n",
       "    }\n",
       "</style>\n",
       "<table border=\"1\" class=\"dataframe\">\n",
       "  <thead>\n",
       "    <tr style=\"text-align: right;\">\n",
       "      <th></th>\n",
       "      <th>Y_pred</th>\n",
       "      <th>residual</th>\n",
       "    </tr>\n",
       "  </thead>\n",
       "  <tbody>\n",
       "    <tr>\n",
       "      <th>307</th>\n",
       "      <td>25.255535</td>\n",
       "      <td>2.944465</td>\n",
       "    </tr>\n",
       "    <tr>\n",
       "      <th>343</th>\n",
       "      <td>25.844442</td>\n",
       "      <td>-1.944442</td>\n",
       "    </tr>\n",
       "    <tr>\n",
       "      <th>47</th>\n",
       "      <td>15.737684</td>\n",
       "      <td>0.862316</td>\n",
       "    </tr>\n",
       "    <tr>\n",
       "      <th>67</th>\n",
       "      <td>24.437415</td>\n",
       "      <td>-2.437415</td>\n",
       "    </tr>\n",
       "    <tr>\n",
       "      <th>362</th>\n",
       "      <td>22.392898</td>\n",
       "      <td>-1.592898</td>\n",
       "    </tr>\n",
       "  </tbody>\n",
       "</table>\n",
       "</div>"
      ],
      "text/plain": [
       "        Y_pred  residual\n",
       "307  25.255535  2.944465\n",
       "343  25.844442 -1.944442\n",
       "47   15.737684  0.862316\n",
       "67   24.437415 -2.437415\n",
       "362  22.392898 -1.592898"
      ]
     },
     "execution_count": 107,
     "metadata": {},
     "output_type": "execute_result"
    }
   ],
   "source": [
    "dict={'Y_pred':Y_pred,'residual':residual}\n",
    "df_new=pd.DataFrame(dict)\n",
    "df_new.head()"
   ]
  },
  {
   "cell_type": "code",
   "execution_count": 108,
   "id": "390ee92b",
   "metadata": {},
   "outputs": [
    {
     "data": {
      "image/png": "[encoded data removed]",
      "text/plain": [
       "<Figure size 432x288 with 2 Axes>"
      ]
     },
     "metadata": {
      "needs_background": "light"
     },
     "output_type": "display_data"
    }
   ],
   "source": [
    "#To check the correlation between residual and y_pred\n",
    "sb.heatmap(df_new.corr(),annot=True)\n",
    "plt.show()"
   ]
  },
  {
   "cell_type": "code",
   "execution_count": 109,
   "id": "fa21c40d",
   "metadata": {},
   "outputs": [
    {
     "name": "stdout",
     "output_type": "stream",
     "text": [
      "1.2143570936125903\n"
     ]
    },
    {
     "data": {
      "image/png": "[encoded data removed]",
      "text/plain": [
       "<Figure size 432x288 with 1 Axes>"
      ]
     },
     "metadata": {
      "needs_background": "light"
     },
     "output_type": "display_data"
    },
    {
     "data": {
      "image/png": "[encoded data removed]",
      "text/plain": [
       "<Figure size 432x288 with 1 Axes>"
      ]
     },
     "metadata": {
      "needs_background": "light"
     },
     "output_type": "display_data"
    }
   ],
   "source": [
    "# 3rd assumption will also fail\n",
    "# 4th assumption : N.D curve\n",
    "sb.histplot(residual)\n",
    "print (residual.skew())\n",
    "plt.show()\n",
    "# it is positive skewness\n",
    "\n",
    "#distplot()\n",
    "sb.distplot(residual)\n",
    "plt.show()"
   ]
  },
  {
   "cell_type": "code",
   "execution_count": null,
   "id": "e9ac99f0",
   "metadata": {},
   "outputs": [],
   "source": [
    "#Conclusion:-\n",
    "#We go with polynomial regression till degree=6\n",
    "#If the assumption is not fulfill then we have to do regularisation"
   ]
  },
  {
   "cell_type": "code",
   "execution_count": null,
   "id": "101eee88",
   "metadata": {},
   "outputs": [],
   "source": []
  },
  {
   "cell_type": "code",
   "execution_count": null,
   "id": "f6bfaca0",
   "metadata": {},
   "outputs": [],
   "source": []
  },
  {
   "cell_type": "code",
   "execution_count": null,
   "id": "933baa32",
   "metadata": {},
   "outputs": [],
   "source": []
  }
 ],
 "metadata": {
  "kernelspec": {
   "display_name": "Python 3 (ipykernel)",
   "language": "python",
   "name": "python3"
  },
  "language_info": {
   "codemirror_mode": {
    "name": "ipython",
    "version": 3
   },
   "file_extension": ".py",
   "mimetype": "text/x-python",
   "name": "python",
   "nbconvert_exporter": "python",
   "pygments_lexer": "ipython3",
   "version": "3.9.7"
  }
 },
 "nbformat": 4,
 "nbformat_minor": 5
}
